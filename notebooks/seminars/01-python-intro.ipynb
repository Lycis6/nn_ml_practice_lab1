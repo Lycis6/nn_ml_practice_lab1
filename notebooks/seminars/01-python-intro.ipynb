{
 "cells": [
  {
   "cell_type": "markdown",
   "metadata": {},
   "source": [
    "Оригинальный ноутбук доступен по ссылке -- https://gist.github.com/kenjyco/69eeb503125035f21a9d\n",
    "\n",
    "Лицензия открытая, тем не менее, необходимо упомянуть:\n",
    "```\n",
    "The MIT License (MIT)\n",
    "\n",
    "Copyright (c) 2019 Ken\n",
    "\n",
    "Permission is hereby granted, free of charge, to any person obtaining a copy\n",
    "of this software and associated documentation files (the \"Software\"), to deal\n",
    "in the Software without restriction, including without limitation the rights\n",
    "to use, copy, modify, merge, publish, distribute, sublicense, and/or sell\n",
    "copies of the Software, and to permit persons to whom the Software is\n",
    "furnished to do so, subject to the following conditions:\n",
    "\n",
    "The above copyright notice and this permission notice shall be included in all\n",
    "copies or substantial portions of the Software.\n",
    "```\n",
    "\n",
    "\n",
    "## Пару слов о ячейках в ноутбуке\n",
    "\n",
    "Запускать ячейки можно сочетанием клавиш **`<Shift> + <Enter>`**. \n",
    "\n",
    "Клавиша **`<Enter>`** позволяет перенести курсор на следующую строку.\n",
    "\n",
    "#### Ячейки с кодом\n",
    "\n",
    "Перезапуск ячеек запустит весь код, написанный внутри ячейки. Чтобы модифицировать содержимое, необходимо кликнуть на нее (цвет поменяется с синего на зеленый).\n",
    "\n",
    "#### Ячейки типа Markdown\n",
    "\n",
    "Перезапуск ячеек сгенерирует текст в формате Markdown заново. Для редактирования необходимо кликнуть дважды.\n",
    "\n",
    "<hr>"
   ]
  },
  {
   "cell_type": "markdown",
   "metadata": {},
   "source": [
    "## References\n",
    "\n",
    "- https://jupyter-notebook.readthedocs.io/en/latest/notebook.html\n",
    "- https://mybinder.readthedocs.io/en/latest/introduction.html\n",
    "- https://docs.python.org/3/tutorial/index.html\n",
    "- https://docs.python.org/3/tutorial/introduction.html\n",
    "- https://daringfireball.net/projects/markdown/syntax\n",
    "\n",
    "<hr>"
   ]
  },
  {
   "cell_type": "markdown",
   "metadata": {},
   "source": [
    "# 1. База\n",
    "  \n",
    "## Объекты, основный типы и переменные в Python 3\n",
    "\n",
    "Всё в Python 3 является **объектом** (**object**) и любой объект имеет свой **тип** (**type**). Основные типы включают в себя:\n",
    "\n",
    "- **`int`** (integer; целое число)\n",
    "  - `10`\n",
    "  - `-3`\n",
    "- **`float`** (float; дробное число)\n",
    "  - `7.41`\n",
    "  - `-0.006`\n",
    "- **`str`** (string; последовательности символов, обозначенная одинарной или двойной ковычкой, а также тройными одинарными или двойными ковычками)\n",
    "  - `'this is a string using single quotes'`\n",
    "  - `\"this is a string using double quotes\"`\n",
    "  - `'''this is a triple quoted string using single quotes'''`\n",
    "  - `\"\"\"this is a triple quoted string using double quotes\"\"\"`\n",
    "- **`bool`** (boolean; бинарная величина, может быть `True` или `False`)\n",
    "  - `True`\n",
    "  - `False`\n",
    "- **`NoneType`** (особый тип, обозначающий отсутствие значения)\n",
    "  - `None`\n",
    "\n",
    "В Python **переменная** (**variable**) — это имя, указанное вами в коде, которое сопоставляется с конкретным **объектом** (**object**), **экземпляром** (**instance**) объекта или значением.\n",
    "\n",
    "Определяя переменные, мы можем ссылаться на объекты по именам, которые имеют для нас смысл (стараемся давать осмысленные названия для переменных). Имена переменных могут содержать только буквы, знаки подчеркивания (`_`) или цифры (без пробелов, тире и других символов). Имена переменных должны начинаться с буквы или подчеркивания (с цифр начинать название нельзя).\n",
    "\n",
    "<hr>"
   ]
  },
  {
   "cell_type": "markdown",
   "metadata": {},
   "source": [
    "## Основные операторы\n",
    "\n",
    "В Python существуют разные типы **операторов** (**operators**) (специальных символов), которые работают с разными значениями. Некоторые из основных операторов включают в себя:\n",
    "\n",
    "- арифметические операторы\n",
    "   - **`+`** (сумма)\n",
    "   - **`-`** (вычитание)\n",
    "   - **`*`** (умножение)\n",
    "   - **`/`** (деление)\n",
    "   - __`**`__ (степень)\n",
    "- операторы присваивания\n",
    "   - **`=`** (присвоить значение)\n",
    "   - **`+=`** (суммировать и переназначение; увеличение; аналог конструкции **`a++`**)\n",
    "   - **`-=`** (вычесть и переназначить; уменьшение; аналог конструкции **`a--`**)\n",
    "   - **`*=`** (умножить и переназначить)\n",
    "- операторы сравнения (возвращают либо `True`, либо `False`)\n",
    "   - **`==`** (равно)\n",
    "   - **`!=`** (не равно)\n",
    "   - **`<`** (меньше чем)\n",
    "   - **`<=`** (меньше или равно)\n",
    "   - **`>`** (больше чем)\n",
    "   - **`>=`** (больше или равно)\n",
    "\n",
    "Если в одном выражении используется несколько операторов, **приоритет операторов** определяет, какие части выражения в каком порядке вычисляются. Операторы с более высоким приоритетом оцениваются в первую очередь. Операторы с одинаковым приоритетом оцениваются слева направо. Приоритет операторов ниже:\n",
    "\n",
    "- круглые скобки `()` для группировки\n",
    "- возведение в степень `**`\n",
    "- `*`, `/` умножение и деление\n",
    "- `+`, `-` сложение и вычитание\n",
    "- операторы сравнения `==`, `!=`, `<`, `<=`, `>`, `>=`\n",
    "\n",
    "> See https://docs.python.org/3/reference/expressions.html#operator-precedence"
   ]
  },
  {
   "cell_type": "code",
   "execution_count": 1,
   "metadata": {},
   "outputs": [],
   "source": [
    "# Присвоение некоторых чисел разным переменным\n",
    "num1 = 10\n",
    "num2 = -3\n",
    "num3 = 7.41\n",
    "num4 = -.6\n",
    "num5 = 7\n",
    "num6 = 3\n",
    "num7 = 11.11"
   ]
  },
  {
   "cell_type": "code",
   "execution_count": 2,
   "metadata": {},
   "outputs": [
    {
     "data": {
      "text/plain": [
       "7"
      ]
     },
     "execution_count": 2,
     "metadata": {},
     "output_type": "execute_result"
    }
   ],
   "source": [
    "# Сложение\n",
    "num1 + num2"
   ]
  },
  {
   "cell_type": "code",
   "execution_count": 3,
   "metadata": {},
   "outputs": [
    {
     "data": {
      "text/plain": [
       "-10.41"
      ]
     },
     "execution_count": 3,
     "metadata": {},
     "output_type": "execute_result"
    }
   ],
   "source": [
    "# Вычитание\n",
    "num2 - num3"
   ]
  },
  {
   "cell_type": "code",
   "execution_count": 4,
   "metadata": {},
   "outputs": [
    {
     "data": {
      "text/plain": [
       "-4.446"
      ]
     },
     "execution_count": 4,
     "metadata": {},
     "output_type": "execute_result"
    }
   ],
   "source": [
    "# Умножение\n",
    "num3 * num4"
   ]
  },
  {
   "cell_type": "code",
   "execution_count": 5,
   "metadata": {},
   "outputs": [
    {
     "data": {
      "text/plain": [
       "-0.08571428571428572"
      ]
     },
     "execution_count": 5,
     "metadata": {},
     "output_type": "execute_result"
    }
   ],
   "source": [
    "# Деление\n",
    "num4 / num5"
   ]
  },
  {
   "cell_type": "code",
   "execution_count": 6,
   "metadata": {},
   "outputs": [
    {
     "data": {
      "text/plain": [
       "343"
      ]
     },
     "execution_count": 6,
     "metadata": {},
     "output_type": "execute_result"
    }
   ],
   "source": [
    "# Возведение в степень\n",
    "num5 ** num6"
   ]
  },
  {
   "cell_type": "code",
   "execution_count": 7,
   "metadata": {},
   "outputs": [
    {
     "data": {
      "text/plain": [
       "15.11"
      ]
     },
     "execution_count": 7,
     "metadata": {},
     "output_type": "execute_result"
    }
   ],
   "source": [
    "# Увеличение значения переменной\n",
    "num7 += 4\n",
    "num7"
   ]
  },
  {
   "cell_type": "code",
   "execution_count": 8,
   "metadata": {},
   "outputs": [
    {
     "data": {
      "text/plain": [
       "1"
      ]
     },
     "execution_count": 8,
     "metadata": {},
     "output_type": "execute_result"
    }
   ],
   "source": [
    "# Вычитание из значения переменной\n",
    "num6 -= 2\n",
    "num6"
   ]
  },
  {
   "cell_type": "code",
   "execution_count": 9,
   "metadata": {},
   "outputs": [
    {
     "data": {
      "text/plain": [
       "37.05"
      ]
     },
     "execution_count": 9,
     "metadata": {},
     "output_type": "execute_result"
    }
   ],
   "source": [
    "# Умножение значения переменной\n",
    "num3 *= 5\n",
    "num3"
   ]
  },
  {
   "cell_type": "code",
   "execution_count": 10,
   "metadata": {},
   "outputs": [
    {
     "data": {
      "text/plain": [
       "-101.14999999999999"
      ]
     },
     "execution_count": 10,
     "metadata": {},
     "output_type": "execute_result"
    }
   ],
   "source": [
    "# Присвоить значение переменной в виде выражения\n",
    "num8 = num1 + num2 * num3\n",
    "num8"
   ]
  },
  {
   "cell_type": "code",
   "execution_count": 11,
   "metadata": {},
   "outputs": [
    {
     "data": {
      "text/plain": [
       "True"
      ]
     },
     "execution_count": 11,
     "metadata": {},
     "output_type": "execute_result"
    }
   ],
   "source": [
    "# Равенство двух выражений\n",
    "num1 + num2 == num5"
   ]
  },
  {
   "cell_type": "code",
   "execution_count": 12,
   "metadata": {},
   "outputs": [
    {
     "data": {
      "text/plain": [
       "True"
      ]
     },
     "execution_count": 12,
     "metadata": {},
     "output_type": "execute_result"
    }
   ],
   "source": [
    "# Неравенство двух выражений\n",
    "num3 != num4"
   ]
  },
  {
   "cell_type": "code",
   "execution_count": 13,
   "metadata": {},
   "outputs": [
    {
     "data": {
      "text/plain": [
       "False"
      ]
     },
     "execution_count": 13,
     "metadata": {},
     "output_type": "execute_result"
    }
   ],
   "source": [
    "# Сравнений значений двух переменных (либо выражений)\n",
    "num5 < num6"
   ]
  },
  {
   "cell_type": "code",
   "execution_count": 14,
   "metadata": {},
   "outputs": [
    {
     "data": {
      "text/plain": [
       "True"
      ]
     },
     "execution_count": 14,
     "metadata": {},
     "output_type": "execute_result"
    }
   ],
   "source": [
    "# Является ли запись ниже истинной (True)?\n",
    "5 > 3 > 1"
   ]
  },
  {
   "cell_type": "code",
   "execution_count": 15,
   "metadata": {},
   "outputs": [
    {
     "data": {
      "text/plain": [
       "True"
      ]
     },
     "execution_count": 15,
     "metadata": {},
     "output_type": "execute_result"
    }
   ],
   "source": [
    "# Верно ли это выражение?\n",
    "5 > 3 < 4 == 3 + 1"
   ]
  },
  {
   "cell_type": "code",
   "execution_count": 16,
   "metadata": {
    "collapsed": true
   },
   "outputs": [],
   "source": [
    "# Присваиваем значения разных строк разным переменным\n",
    "simple_string1 = 'an example'\n",
    "simple_string2 = \"oranges \""
   ]
  },
  {
   "cell_type": "code",
   "execution_count": 17,
   "metadata": {},
   "outputs": [
    {
     "data": {
      "text/plain": [
       "'an example of using the + operator'"
      ]
     },
     "execution_count": 17,
     "metadata": {},
     "output_type": "execute_result"
    }
   ],
   "source": [
    "# Сложение (конкатенация) строк\n",
    "simple_string1 + ' of using the + operator'"
   ]
  },
  {
   "cell_type": "code",
   "execution_count": 18,
   "metadata": {},
   "outputs": [
    {
     "data": {
      "text/plain": [
       "'an example'"
      ]
     },
     "execution_count": 18,
     "metadata": {},
     "output_type": "execute_result"
    }
   ],
   "source": [
    "# Обратите внимание, что исходная строка не поменялась\n",
    "simple_string1"
   ]
  },
  {
   "cell_type": "code",
   "execution_count": 19,
   "metadata": {},
   "outputs": [
    {
     "data": {
      "text/plain": [
       "'oranges oranges oranges oranges '"
      ]
     },
     "execution_count": 19,
     "metadata": {},
     "output_type": "execute_result"
    }
   ],
   "source": [
    "# Умножение строк\n",
    "simple_string2 * 4"
   ]
  },
  {
   "cell_type": "code",
   "execution_count": 20,
   "metadata": {},
   "outputs": [
    {
     "data": {
      "text/plain": [
       "'oranges '"
      ]
     },
     "execution_count": 20,
     "metadata": {},
     "output_type": "execute_result"
    }
   ],
   "source": [
    "# Исходная строка вновь не изменилась\n",
    "simple_string2"
   ]
  },
  {
   "cell_type": "code",
   "execution_count": 21,
   "metadata": {},
   "outputs": [
    {
     "data": {
      "text/plain": [
       "False"
      ]
     },
     "execution_count": 21,
     "metadata": {},
     "output_type": "execute_result"
    }
   ],
   "source": [
    "# Равны ли строки друг другу?\n",
    "simple_string1 == simple_string2"
   ]
  },
  {
   "cell_type": "code",
   "execution_count": 22,
   "metadata": {},
   "outputs": [
    {
     "data": {
      "text/plain": [
       "True"
      ]
     },
     "execution_count": 22,
     "metadata": {},
     "output_type": "execute_result"
    }
   ],
   "source": [
    "# Равенство строк друг другу\n",
    "simple_string1 == 'an example'"
   ]
  },
  {
   "cell_type": "code",
   "execution_count": 23,
   "metadata": {},
   "outputs": [
    {
     "data": {
      "text/plain": [
       "'an example that re-assigned the original string'"
      ]
     },
     "execution_count": 23,
     "metadata": {},
     "output_type": "execute_result"
    }
   ],
   "source": [
    "# Конкатенация и переназначение переменной\n",
    "simple_string1 += ' that re-assigned the original string'\n",
    "simple_string1"
   ]
  },
  {
   "cell_type": "code",
   "execution_count": 24,
   "metadata": {},
   "outputs": [
    {
     "data": {
      "text/plain": [
       "'oranges oranges oranges '"
      ]
     },
     "execution_count": 24,
     "metadata": {},
     "output_type": "execute_result"
    }
   ],
   "source": [
    "# Умножение и переназначение переменной\n",
    "simple_string2 *= 3\n",
    "simple_string2"
   ]
  },
  {
   "cell_type": "code",
   "execution_count": 25,
   "metadata": {
    "collapsed": true
   },
   "outputs": [],
   "source": [
    "# Примечание. Операторы вычитания и деления не применяются к строкам."
   ]
  },
  {
   "cell_type": "markdown",
   "metadata": {},
   "source": [
    "## Базовые контейнеры\n",
    "\n",
    "> Примечание. **изменяемые** (**mutable**) объекты можно изменить после создания, а **неизменяемые** (**immutable**) — нет.\n",
    "\n",
    "Контейнеры — это объекты, которые можно использовать для хранения других объектов. К основным типам контейнеров относятся:\n",
    "\n",
    "- **`str`** (строка: неизменяемая; индексируется целыми числами; элементы сохраняются в том порядке, в котором они были добавлены)\n",
    "- **`list`** (список: изменяемый; индексируется целыми числами; элементы сохраняются в том порядке, в котором они были добавлены)\n",
    "   - `[3, 5, 6, 3, 'собака', 'кошка', False]`\n",
    "- **`tuple`** (кортеж: неизменяемый; индексируется целыми числами; элементы сохраняются в том порядке, в котором они были добавлены)\n",
    "   - `(3, 5, 6, 3, 'собака', 'кошка', False)`\n",
    "- **`set`** (множество: изменяемый; вообще не индексируется; элементы НЕ хранятся в том порядке, в котором они были добавлены; может содержать только неизменяемые объекты; НЕ содержит повторяющиеся объекты)\n",
    "   - `{3, 5, 6, 'собака', 'кошка', False}`\n",
    "- **`dict`** (словарь: изменяемый; пары ключ-значение индексируются неизменяемыми ключами; элементы НЕ сохраняются в том порядке, в котором они были добавлены)\n",
    "   - `{'name': 'Джейн', \n",
    "       'age': 23, \n",
    "       'fav_foods': ['пицца', 'фрукты', 'рыба']}`\n",
    "\n",
    "При определении списков (list), кортежей (tuple) или множеств (set) используются запятые (,) для разделения отдельных элементов. При определении словарей (dict) используют двоеточие (:) для отделения ключей от значений и запятые (,) для разделения пар ключ-значение.\n",
    "\n",
    "Строки, списки и кортежи — это **типы последовательностей**, к которым могут применяться операторы `+`, `*`, `+=` и `*=`."
   ]
  },
  {
   "cell_type": "code",
   "execution_count": 1,
   "metadata": {},
   "outputs": [],
   "source": [
    "# Присваиваем контейнерам определенные значения\n",
    "list1 = [3, 5, 6, 3, 'dog', 'cat', False]\n",
    "tuple1 = (3, 5, 6, 3, 'dog', 'cat', False)\n",
    "set1 = {3, 5, 6, 3, 'dog', 'cat', False}\n",
    "dict1 = {'name': 'Jane', 'age': 23, 'fav_foods': ['pizza', 'fruit', 'fish']}"
   ]
  },
  {
   "cell_type": "code",
   "execution_count": 27,
   "metadata": {},
   "outputs": [
    {
     "data": {
      "text/plain": [
       "[3, 5, 6, 3, 'dog', 'cat', False]"
      ]
     },
     "execution_count": 27,
     "metadata": {},
     "output_type": "execute_result"
    }
   ],
   "source": [
    "# Элементы списка хранятся в том порядке, в котором они были добавлены\n",
    "list1"
   ]
  },
  {
   "cell_type": "code",
   "execution_count": 28,
   "metadata": {},
   "outputs": [
    {
     "data": {
      "text/plain": [
       "(3, 5, 6, 3, 'dog', 'cat', False)"
      ]
     },
     "execution_count": 28,
     "metadata": {},
     "output_type": "execute_result"
    }
   ],
   "source": [
    "# Элементы в кортеже хранятся в том порядке, в котором они были добавлены\n",
    "tuple1"
   ]
  },
  {
   "cell_type": "code",
   "execution_count": 29,
   "metadata": {},
   "outputs": [
    {
     "data": {
      "text/plain": [
       "{False, 3, 5, 6, 'dog', 'cat'}"
      ]
     },
     "execution_count": 29,
     "metadata": {},
     "output_type": "execute_result"
    }
   ],
   "source": [
    "# Элементы множества не сохраняются в том порядке, в котором они были добавлены (начиная с Python 3.6+ сохраняются)\n",
    "# Также обратите внимание, что значение 3 появляется в множестве только один раз\n",
    "set1"
   ]
  },
  {
   "cell_type": "code",
   "execution_count": 30,
   "metadata": {},
   "outputs": [
    {
     "data": {
      "text/plain": [
       "{'age': 23, 'fav_foods': ['pizza', 'fruit', 'fish'], 'name': 'Jane'}"
      ]
     },
     "execution_count": 30,
     "metadata": {},
     "output_type": "execute_result"
    }
   ],
   "source": [
    "# Элементы в словаре сохраняются не в том порядке, в котором они были добавлены (начиная с Python 3.6+ сохраняются)\n",
    "dict1"
   ]
  },
  {
   "cell_type": "code",
   "execution_count": 31,
   "metadata": {},
   "outputs": [
    {
     "data": {
      "text/plain": [
       "[3, 5, 6, 3, 'dog', 'cat', False, 5, 'grapes']"
      ]
     },
     "execution_count": 31,
     "metadata": {},
     "output_type": "execute_result"
    }
   ],
   "source": [
    "# Суммирование и переназначение переменной\n",
    "list1 += [5, 'grapes']\n",
    "list1"
   ]
  },
  {
   "cell_type": "code",
   "execution_count": 32,
   "metadata": {},
   "outputs": [
    {
     "data": {
      "text/plain": [
       "(3, 5, 6, 3, 'dog', 'cat', False, 5, 'grapes')"
      ]
     },
     "execution_count": 32,
     "metadata": {},
     "output_type": "execute_result"
    }
   ],
   "source": [
    "# Суммирование и переназначение переменной\n",
    "tuple1 += (5, 'grapes')\n",
    "tuple1"
   ]
  },
  {
   "cell_type": "code",
   "execution_count": 33,
   "metadata": {},
   "outputs": [
    {
     "data": {
      "text/plain": [
       "[1, 2, 3, 4, 1, 2, 3, 4]"
      ]
     },
     "execution_count": 33,
     "metadata": {},
     "output_type": "execute_result"
    }
   ],
   "source": [
    "# Перемножение\n",
    "[1, 2, 3, 4] * 2"
   ]
  },
  {
   "cell_type": "code",
   "execution_count": 34,
   "metadata": {},
   "outputs": [
    {
     "data": {
      "text/plain": [
       "(1, 2, 3, 4, 1, 2, 3, 4, 1, 2, 3, 4)"
      ]
     },
     "execution_count": 34,
     "metadata": {},
     "output_type": "execute_result"
    }
   ],
   "source": [
    "# Перемножение\n",
    "(1, 2, 3, 4) * 3"
   ]
  },
  {
   "cell_type": "markdown",
   "metadata": {},
   "source": [
    "## Доступ к данным в контейнерах (индексация)\n",
    "\n",
    "Для строк, списков, кортежей и словарей мы можем использовать **индексную запись** (квадратные скобки) для доступа к данным по индексу.\n",
    "\n",
    "- строки, списки и кортежи индексируются целыми числами, **начиная с 0** для первого элемента.\n",
    "   - эти типы последовательностей также поддерживают доступ к диапазону элементов, известный как **слайсы** (**slice**).\n",
    "   - можно использовать **отрицательную индексацию**, чтобы начать с конца последовательности.\n",
    "- Словари индексируются по их ключам\n",
    "\n",
    "> Примечание: множества не индексируются, поэтому мы не можем использовать индексную запись для доступа к элементам данных."
   ]
  },
  {
   "cell_type": "code",
   "execution_count": 35,
   "metadata": {},
   "outputs": [
    {
     "data": {
      "text/plain": [
       "3"
      ]
     },
     "execution_count": 35,
     "metadata": {},
     "output_type": "execute_result"
    }
   ],
   "source": [
    "# Access the first item in a sequence\n",
    "list1[0]"
   ]
  },
  {
   "cell_type": "code",
   "execution_count": 36,
   "metadata": {},
   "outputs": [
    {
     "data": {
      "text/plain": [
       "'grapes'"
      ]
     },
     "execution_count": 36,
     "metadata": {},
     "output_type": "execute_result"
    }
   ],
   "source": [
    "# Access the last item in a sequence\n",
    "tuple1[-1]"
   ]
  },
  {
   "cell_type": "code",
   "execution_count": 37,
   "metadata": {},
   "outputs": [
    {
     "data": {
      "text/plain": [
       "'examp'"
      ]
     },
     "execution_count": 37,
     "metadata": {},
     "output_type": "execute_result"
    }
   ],
   "source": [
    "# Access a range of items in a sequence\n",
    "simple_string1[3:8]"
   ]
  },
  {
   "cell_type": "code",
   "execution_count": 38,
   "metadata": {},
   "outputs": [
    {
     "data": {
      "text/plain": [
       "(3, 5, 6, 3, 'dog', 'cat')"
      ]
     },
     "execution_count": 38,
     "metadata": {},
     "output_type": "execute_result"
    }
   ],
   "source": [
    "# Access a range of items in a sequence\n",
    "tuple1[:-3]"
   ]
  },
  {
   "cell_type": "code",
   "execution_count": 39,
   "metadata": {},
   "outputs": [
    {
     "data": {
      "text/plain": [
       "['dog', 'cat', False, 5, 'grapes']"
      ]
     },
     "execution_count": 39,
     "metadata": {},
     "output_type": "execute_result"
    }
   ],
   "source": [
    "# Access a range of items in a sequence\n",
    "list1[4:]"
   ]
  },
  {
   "cell_type": "code",
   "execution_count": 40,
   "metadata": {},
   "outputs": [
    {
     "data": {
      "text/plain": [
       "'Jane'"
      ]
     },
     "execution_count": 40,
     "metadata": {},
     "output_type": "execute_result"
    }
   ],
   "source": [
    "# Access an item in a dictionary\n",
    "dict1['name']"
   ]
  },
  {
   "cell_type": "code",
   "execution_count": 41,
   "metadata": {},
   "outputs": [
    {
     "data": {
      "text/plain": [
       "'fish'"
      ]
     },
     "execution_count": 41,
     "metadata": {},
     "output_type": "execute_result"
    }
   ],
   "source": [
    "# Access an element of a sequence in a dictionary\n",
    "dict1['fav_foods'][2]"
   ]
  },
  {
   "cell_type": "markdown",
   "metadata": {},
   "source": [
    "## Python «циклы for»\n",
    "\n",
    "Легко **перебирать** коллекцию элементов, используя цикл **for**. Определенные нами строки, списки, кортежи, множества и словари являются **итерируемыми** контейнерами.\n",
    "\n",
    "Цикл for будет проходить через указанный контейнер по одному элементу за раз и предоставлять временную переменную для текущего элемента. Вы можете использовать эту временную переменную как обычную переменную."
   ]
  },
  {
   "cell_type": "code",
   "execution_count": null,
   "metadata": {
    "collapsed": true
   },
   "outputs": [],
   "source": [
    "for i in range(5):\n",
    "    print(i)"
   ]
  },
  {
   "cell_type": "code",
   "execution_count": null,
   "metadata": {},
   "outputs": [],
   "source": [
    "range(5)"
   ]
  },
  {
   "cell_type": "code",
   "execution_count": null,
   "metadata": {},
   "outputs": [],
   "source": [
    "bb = list(range(5))"
   ]
  },
  {
   "cell_type": "code",
   "execution_count": null,
   "metadata": {},
   "outputs": [],
   "source": [
    "bb"
   ]
  },
  {
   "cell_type": "code",
   "execution_count": null,
   "metadata": {},
   "outputs": [],
   "source": [
    "# Вложенные циклы\n",
    "for x in range(1, 11):\n",
    "    for y in range(1, 11):\n",
    "        print('%d * %d = %d' % (x, y, x*y))"
   ]
  },
  {
   "cell_type": "code",
   "execution_count": null,
   "metadata": {},
   "outputs": [],
   "source": [
    "# Выход из цикла по условию\n",
    "for x in range(3):\n",
    "    if x == 1:\n",
    "        break"
   ]
  },
  {
   "cell_type": "code",
   "execution_count": null,
   "metadata": {},
   "outputs": [],
   "source": [
    "# итерации по элементам контейнера (строки)\n",
    "string = \"Hello World\"\n",
    "for x in string:\n",
    "    print(x)"
   ]
  },
  {
   "cell_type": "code",
   "execution_count": null,
   "metadata": {},
   "outputs": [],
   "source": [
    "# итерации по элементам контейнера (список)\n",
    "words = [\"раз\", \"два\", \"три\"]\n",
    "for element in words:\n",
    "    print(element)"
   ]
  },
  {
   "cell_type": "code",
   "execution_count": null,
   "metadata": {},
   "outputs": [],
   "source": [
    "# итерации по индексам контейнера (список)\n",
    "for i in range(len(words)):\n",
    "    print(words[i])"
   ]
  },
  {
   "cell_type": "code",
   "execution_count": null,
   "metadata": {},
   "outputs": [],
   "source": [
    "# итерации по элементам контейнера (список списков)\n",
    "list_of_lists = [[1, 2, 3],\n",
    "                 [4, 5, 6],\n",
    "                 [7, 8, 9]\n",
    "                ]\n",
    "for list in list_of_lists:\n",
    "    for x in list:\n",
    "        print(x)"
   ]
  },
  {
   "cell_type": "markdown",
   "metadata": {},
   "source": [
    "## Python «операторы if» и «циклы while»\n",
    "\n",
    "Условные выражения можно использовать с этими двумя **условными операторами**.\n",
    "\n",
    "Оператор **if** позволяет вам проверить условие и выполнить некоторые действия, если условие оценивается как «True». Вы также можете добавить в оператор if предложения elif и/или else, чтобы выполнять альтернативные действия, если условие оценивается как False.\n",
    "\n",
    "Цикл **while** будет продолжать работать до тех пор, пока его условное выражение не примет значение False.\n",
    "\n",
    "> Примечание. При использовании цикла while с условным выражением, которое никогда не принимает значение «False», возможен «вечный цикл».\n",
    ">\n",
    "> Примечание. Поскольку цикл **for** будет перебирать контейнер элементов до тех пор, пока их не останется, нет необходимости указывать условие прекращения цикла."
   ]
  },
  {
   "cell_type": "code",
   "execution_count": null,
   "metadata": {
    "collapsed": true
   },
   "outputs": [],
   "source": [
    "a = 5\n",
    "if a > 5:\n",
    "    print(\"a больше 5\")\n",
    "elif a > 3:  # else + if\n",
    "    print(\"а больше 3\")\n",
    "else:\n",
    "    print(\"a меньше 3\")"
   ]
  },
  {
   "cell_type": "code",
   "execution_count": null,
   "metadata": {},
   "outputs": [],
   "source": [
    "x = 5\n",
    "if x:\n",
    "    a = 3\n",
    "else:\n",
    "    a = 2"
   ]
  },
  {
   "cell_type": "code",
   "execution_count": null,
   "metadata": {},
   "outputs": [],
   "source": [
    "x = None  # False\n",
    "if x:\n",
    "    a = 3\n",
    "else:\n",
    "    a = 2"
   ]
  },
  {
   "cell_type": "code",
   "execution_count": null,
   "metadata": {},
   "outputs": [],
   "source": [
    "# тернарный оператор\n",
    "a = 3 if x else 2"
   ]
  },
  {
   "cell_type": "code",
   "execution_count": null,
   "metadata": {},
   "outputs": [],
   "source": [
    "a = 0\n",
    "while a < 5:\n",
    "    print(a)\n",
    "    a = a + 1"
   ]
  },
  {
   "cell_type": "code",
   "execution_count": null,
   "metadata": {},
   "outputs": [],
   "source": [
    "a = 0\n",
    "while a < 5:\n",
    "    a = a + 1\n",
    "    print(a)"
   ]
  },
  {
   "cell_type": "markdown",
   "metadata": {},
   "source": [
    "# 1.5 Некоторые детали базы Python\n",
    "\n",
    "## Встроенные функции и вызываемые объекты Python\n",
    "\n",
    "**Функция** (**function**) — это объект Python, который вы можете «вызвать», чтобы **выполнить действие** или произвести вычисления и **вернуть другой объект**. Вызвать функцию можно, написав круглые скобки справа от имени функции. Некоторые функции позволяют передавать **аргументы** внутри круглых скобок (разделяя несколько аргументов запятой). Внутри функции эти аргументы рассматриваются как переменные.\n",
    "\n",
    "Python имеет несколько полезных встроенных функций, которые помогут вам работать с различными объектами и/или вашей средой. Вот небольшая их часть:\n",
    "\n",
    "- **`type(obj)`** для определения типа объекта\n",
    "- **`len(container)`**, чтобы определить, сколько элементов находится в контейнере\n",
    "- **`callable(obj)`**, чтобы определить, доступен ли вызов объекта\n",
    "- **`sorted(container)`** для возврата нового списка из контейнера с отсортированными элементами.\n",
    "- **`sum(container)`** для вычисления суммы элементов контейнера\n",
    "- **`min(container)`** для определения наименьшего элемента в контейнере.\n",
    "- **`max(container)`** для определения самого большого элемента в контейнере.\n",
    "- **`abs(number)`** для определения абсолютного значения числа.\n",
    "- **`repr(obj)`** для возврата строкового представления объекта.\n",
    "\n",
    "> Полный список встроенных функций: https://docs.python.org/3/library/functions.html.\n",
    "\n",
    "Существуют также различные способы определения ваших собственных функций и вызываемых объектов, которые мы рассмотрим позже."
   ]
  },
  {
   "cell_type": "code",
   "execution_count": 42,
   "metadata": {},
   "outputs": [
    {
     "data": {
      "text/plain": [
       "str"
      ]
     },
     "execution_count": 42,
     "metadata": {},
     "output_type": "execute_result"
    }
   ],
   "source": [
    "# Используйте функцию type() для определения типа объекта\n",
    "type(simple_string1)"
   ]
  },
  {
   "cell_type": "code",
   "execution_count": 43,
   "metadata": {},
   "outputs": [
    {
     "data": {
      "text/plain": [
       "3"
      ]
     },
     "execution_count": 43,
     "metadata": {},
     "output_type": "execute_result"
    }
   ],
   "source": [
    "# Используйте функцию len(), чтобы определить, сколько элементов находится в контейнере\n",
    "len(dict1)"
   ]
  },
  {
   "cell_type": "code",
   "execution_count": 44,
   "metadata": {},
   "outputs": [
    {
     "data": {
      "text/plain": [
       "24"
      ]
     },
     "execution_count": 44,
     "metadata": {},
     "output_type": "execute_result"
    }
   ],
   "source": [
    "# Используйте функцию len(), чтобы определить, сколько элементов находится в контейнере\n",
    "len(simple_string2)"
   ]
  },
  {
   "cell_type": "code",
   "execution_count": 45,
   "metadata": {},
   "outputs": [
    {
     "data": {
      "text/plain": [
       "True"
      ]
     },
     "execution_count": 45,
     "metadata": {},
     "output_type": "execute_result"
    }
   ],
   "source": [
    "# Используйте функцию callable(), чтобы определить, можно ли вызвать объект\n",
    "callable(len)"
   ]
  },
  {
   "cell_type": "code",
   "execution_count": 46,
   "metadata": {},
   "outputs": [
    {
     "data": {
      "text/plain": [
       "False"
      ]
     },
     "execution_count": 46,
     "metadata": {},
     "output_type": "execute_result"
    }
   ],
   "source": [
    "# Use the callable() function to determine if an object is callable\n",
    "callable(dict1)"
   ]
  },
  {
   "cell_type": "code",
   "execution_count": 47,
   "metadata": {},
   "outputs": [
    {
     "data": {
      "text/plain": [
       "[-3, 1, 2, 3.6, 5, 7, 10]"
      ]
     },
     "execution_count": 47,
     "metadata": {},
     "output_type": "execute_result"
    }
   ],
   "source": [
    "# Используйте функцию sorted() для возврата нового списка из контейнера с отсортированными элементами\n",
    "sorted([10, 1, 3.6, 7, 5, 2, -3])"
   ]
  },
  {
   "cell_type": "code",
   "execution_count": 48,
   "metadata": {},
   "outputs": [
    {
     "data": {
      "text/plain": [
       "['California', 'Chicago', 'ants', 'cats', 'dogs', 'mice', 'zebras']"
      ]
     },
     "execution_count": 48,
     "metadata": {},
     "output_type": "execute_result"
    }
   ],
   "source": [
    "# Используйте функцию sorted(), чтобы вернуть новый список из контейнера с отсортированными элементами\n",
    "# обратите внимание, что строки с заглавной буквы идут первыми\n",
    "sorted(['dogs', 'cats', 'zebras', 'Chicago', 'California', 'ants', 'mice'])"
   ]
  },
  {
   "cell_type": "code",
   "execution_count": 49,
   "metadata": {},
   "outputs": [
    {
     "data": {
      "text/plain": [
       "25.6"
      ]
     },
     "execution_count": 49,
     "metadata": {},
     "output_type": "execute_result"
    }
   ],
   "source": [
    "# Используйте функцию sum() для вычисления суммы элементов контейнера\n",
    "sum([10, 1, 3.6, 7, 5, 2, -3])"
   ]
  },
  {
   "cell_type": "code",
   "execution_count": 50,
   "metadata": {},
   "outputs": [
    {
     "data": {
      "text/plain": [
       "-3"
      ]
     },
     "execution_count": 50,
     "metadata": {},
     "output_type": "execute_result"
    }
   ],
   "source": [
    "# Используйте функцию min() для определения наименьшего элемента в контейнере\n",
    "min([10, 1, 3.6, 7, 5, 2, -3])"
   ]
  },
  {
   "cell_type": "code",
   "execution_count": 51,
   "metadata": {},
   "outputs": [
    {
     "data": {
      "text/plain": [
       "'a'"
      ]
     },
     "execution_count": 51,
     "metadata": {},
     "output_type": "execute_result"
    }
   ],
   "source": [
    "# Используйте функцию min() для определения наименьшего элемента в контейнере\n",
    "min(['g', 'z', 'a', 'y'])"
   ]
  },
  {
   "cell_type": "code",
   "execution_count": 52,
   "metadata": {},
   "outputs": [
    {
     "data": {
      "text/plain": [
       "10"
      ]
     },
     "execution_count": 52,
     "metadata": {},
     "output_type": "execute_result"
    }
   ],
   "source": [
    "# Используйте функцию max(), чтобы определить самый большой элемент в контейнере\n",
    "max([10, 1, 3.6, 7, 5, 2, -3])"
   ]
  },
  {
   "cell_type": "code",
   "execution_count": 53,
   "metadata": {},
   "outputs": [
    {
     "data": {
      "text/plain": [
       "'s'"
      ]
     },
     "execution_count": 53,
     "metadata": {},
     "output_type": "execute_result"
    }
   ],
   "source": [
    "# Используйте функцию max(), чтобы определить самый большой элемент в контейнере\n",
    "max('gibberish')"
   ]
  },
  {
   "cell_type": "code",
   "execution_count": 54,
   "metadata": {},
   "outputs": [
    {
     "data": {
      "text/plain": [
       "10"
      ]
     },
     "execution_count": 54,
     "metadata": {},
     "output_type": "execute_result"
    }
   ],
   "source": [
    "# Используйте функцию abs() для определения абсолютного значения числа\n",
    "abs(10)"
   ]
  },
  {
   "cell_type": "code",
   "execution_count": 55,
   "metadata": {},
   "outputs": [
    {
     "data": {
      "text/plain": [
       "12"
      ]
     },
     "execution_count": 55,
     "metadata": {},
     "output_type": "execute_result"
    }
   ],
   "source": [
    "# Используйте функцию abs() для определения абсолютного значения числа\n",
    "abs(-12)"
   ]
  },
  {
   "cell_type": "code",
   "execution_count": 56,
   "metadata": {},
   "outputs": [
    {
     "data": {
      "text/plain": [
       "\"{False, 3, 5, 6, 'dog', 'cat'}\""
      ]
     },
     "execution_count": 56,
     "metadata": {},
     "output_type": "execute_result"
    }
   ],
   "source": [
    "# Используйте функцию repr() для возврата строкового представления объекта\n",
    "repr(set1)"
   ]
  },
  {
   "cell_type": "markdown",
   "metadata": {},
   "source": [
    "## Атрибуты объекта Python (методы и свойства)\n",
    "\n",
    "Различные типы объектов в Python имеют разные **атрибуты** (**attributes**), на которые можно ссылаться по имени (аналогично переменной). Чтобы получить доступ к атрибуту объекта, используйте точку (`.`) после объекта, затем укажите атрибут (например, `obj.attribute`).\n",
    "\n",
    "Если атрибут объекта является вызываемым, этот атрибут называется **методом** (**method**). Это то же самое, что и функция, только эта функция привязана к конкретному объекту.\n",
    "\n",
    "Если атрибут объекта не является вызываемым, этот атрибут называется **свойством** (**property**). Это просто часть данных об объекте, который сам по себе является другим объектом.\n",
    "\n",
    "Встроенная функция dir() может использоваться для возврата списка атрибутов объекта.\n",
    "\n",
    "<hr>"
   ]
  },
  {
   "cell_type": "markdown",
   "metadata": {},
   "source": [
    "## Некоторые методы для строковых объектов (string, str)\n",
    "\n",
    "- **`.capitalize()`** для возврата версии строки с заглавной буквы (только первый символ в верхнем регистре)\n",
    "- **`.upper()`** для возврата версии строки в верхнем регистре (все символы в верхнем регистре)\n",
    "- **`.lower()`** для возврата версии строки в нижнем регистре (все символы в нижнем регистре)\n",
    "- **`.count(substring)`** для возврата количества вхождений подстроки в строку\n",
    "- **`.startswith(substring)`**, чтобы определить, начинается ли строка с подстроки\n",
    "- **`.endswith(substring)`**, чтобы определить, заканчивается ли строка подстрокой\n",
    "- **`.replace(old, new)`** для возврата копии строки с заменой слова \"old\" на \"new\""
   ]
  },
  {
   "cell_type": "code",
   "execution_count": 2,
   "metadata": {},
   "outputs": [],
   "source": [
    "# Определяем значение переменной\n",
    "a_string = 'tHis is a sTriNg'"
   ]
  },
  {
   "cell_type": "code",
   "execution_count": 3,
   "metadata": {},
   "outputs": [
    {
     "data": {
      "text/plain": [
       "'This is a string'"
      ]
     },
     "execution_count": 3,
     "metadata": {},
     "output_type": "execute_result"
    }
   ],
   "source": [
    "# Вернуть строку с заглавной буквы\n",
    "a_string.capitalize()"
   ]
  },
  {
   "cell_type": "code",
   "execution_count": 4,
   "metadata": {},
   "outputs": [
    {
     "data": {
      "text/plain": [
       "'THIS IS A STRING'"
      ]
     },
     "execution_count": 4,
     "metadata": {},
     "output_type": "execute_result"
    }
   ],
   "source": [
    "# Вернуть строку в верхнем регистре\n",
    "a_string.upper()"
   ]
  },
  {
   "cell_type": "code",
   "execution_count": 60,
   "metadata": {},
   "outputs": [
    {
     "data": {
      "text/plain": [
       "'this is a string'"
      ]
     },
     "execution_count": 60,
     "metadata": {},
     "output_type": "execute_result"
    }
   ],
   "source": [
    "# Вернуть строку в нижнем регистре\n",
    "a_string.lower()"
   ]
  },
  {
   "cell_type": "code",
   "execution_count": 61,
   "metadata": {},
   "outputs": [
    {
     "data": {
      "text/plain": [
       "'tHis is a sTriNg'"
      ]
     },
     "execution_count": 61,
     "metadata": {},
     "output_type": "execute_result"
    }
   ],
   "source": [
    "# Обратите внимание, что вызванные методы не изменили строку\n",
    "a_string"
   ]
  },
  {
   "cell_type": "code",
   "execution_count": 62,
   "metadata": {},
   "outputs": [
    {
     "data": {
      "text/plain": [
       "3"
      ]
     },
     "execution_count": 62,
     "metadata": {},
     "output_type": "execute_result"
    }
   ],
   "source": [
    "# Подсчитать количество вхождений подстроки в строку\n",
    "a_string.count('i')"
   ]
  },
  {
   "cell_type": "code",
   "execution_count": 64,
   "metadata": {},
   "outputs": [
    {
     "data": {
      "text/plain": [
       "2"
      ]
     },
     "execution_count": 64,
     "metadata": {},
     "output_type": "execute_result"
    }
   ],
   "source": [
    "# CПодсчитать количество вхождений подстроки в строку\n",
    "a_string.count('is')"
   ]
  },
  {
   "cell_type": "code",
   "execution_count": 63,
   "metadata": {},
   "outputs": [
    {
     "data": {
      "text/plain": [
       "1"
      ]
     },
     "execution_count": 63,
     "metadata": {},
     "output_type": "execute_result"
    }
   ],
   "source": [
    "# Подсчитать количество вхождений подстроки в строку после определенной позиции\n",
    "a_string.count('i', 7)"
   ]
  },
  {
   "cell_type": "code",
   "execution_count": 65,
   "metadata": {},
   "outputs": [
    {
     "data": {
      "text/plain": [
       "False"
      ]
     },
     "execution_count": 65,
     "metadata": {},
     "output_type": "execute_result"
    }
   ],
   "source": [
    "# Начиается ли строка с 'this'?\n",
    "a_string.startswith('this')"
   ]
  },
  {
   "cell_type": "code",
   "execution_count": 66,
   "metadata": {},
   "outputs": [
    {
     "data": {
      "text/plain": [
       "True"
      ]
     },
     "execution_count": 66,
     "metadata": {},
     "output_type": "execute_result"
    }
   ],
   "source": [
    "# Начинается ли строка в нижнем регистре с 'this'?\n",
    "a_string.lower().startswith('this')"
   ]
  },
  {
   "cell_type": "code",
   "execution_count": 67,
   "metadata": {},
   "outputs": [
    {
     "data": {
      "text/plain": [
       "True"
      ]
     },
     "execution_count": 67,
     "metadata": {},
     "output_type": "execute_result"
    }
   ],
   "source": [
    "# Заканчивается ли строка на 'Ng'?\n",
    "a_string.endswith('Ng')"
   ]
  },
  {
   "cell_type": "code",
   "execution_count": 68,
   "metadata": {},
   "outputs": [
    {
     "data": {
      "text/plain": [
       "'tHXYZ XYZ a sTriNg'"
      ]
     },
     "execution_count": 68,
     "metadata": {},
     "output_type": "execute_result"
    }
   ],
   "source": [
    "# Вернуть строку с заменой одной подстроки на другую\n",
    "a_string.replace('is', 'XYZ')"
   ]
  },
  {
   "cell_type": "code",
   "execution_count": 69,
   "metadata": {},
   "outputs": [
    {
     "data": {
      "text/plain": [
       "'tH!s !s a sTr!Ng'"
      ]
     },
     "execution_count": 69,
     "metadata": {},
     "output_type": "execute_result"
    }
   ],
   "source": [
    "# Вернуть строку с заменой одной подстроки на другую\n",
    "a_string.replace('i', '!')"
   ]
  },
  {
   "cell_type": "code",
   "execution_count": 70,
   "metadata": {},
   "outputs": [
    {
     "data": {
      "text/plain": [
       "'tH!s !s a sTriNg'"
      ]
     },
     "execution_count": 70,
     "metadata": {},
     "output_type": "execute_result"
    }
   ],
   "source": [
    "# Вернуть строку, в которой первые два вхождения подстроки заменены другой подстрокой.\n",
    "a_string.replace('i', '!', 2)"
   ]
  },
  {
   "cell_type": "markdown",
   "metadata": {
    "collapsed": true
   },
   "source": [
    "## Некоторые методы для объектов списка (list)\n",
    "\n",
    "- **`.append(item)`** для добавления одного элемента в список\n",
    "- **`.extend([item1, item2, ...])`** для добавления нескольких элементов в список\n",
    "- **`.remove(item)`** для удаления одного элемента из списка\n",
    "- **`.pop()`** для удаления и возврата элемента в конце списка\n",
    "- **`.pop(index)`** для удаления и возврата элемента по индексу"
   ]
  },
  {
   "cell_type": "code",
   "execution_count": null,
   "metadata": {
    "collapsed": true
   },
   "outputs": [],
   "source": []
  },
  {
   "cell_type": "code",
   "execution_count": null,
   "metadata": {
    "collapsed": true
   },
   "outputs": [],
   "source": []
  },
  {
   "cell_type": "markdown",
   "metadata": {},
   "source": [
    "## Некоторые методы для объектов множеств (set)\n",
    "\n",
    "- **`.add(item)`** для добавления одного элемента в множество\n",
    "- **`.update([item1, item2, ...])`** для добавления нескольких элементов в множество\n",
    "- **`.update(set2, set3, ...)`** для добавления элементов из всех предоставленных множеств в множество\n",
    "- **`.remove(item)`** для удаления одного элемента из множество\n",
    "- **`.pop()`** для удаления и возврата случайного элемента из множество\n",
    "- **`.difference(set2)`** для возврата элементов в множестве, которых нет в другом множестве\n",
    "- **`.intersection(set2)`** для возврата элементов в обоих множествах\n",
    "- **`.union(set2)`** для возврата элементов, входящих в любое множество\n",
    "- **`.symmetric_difference(set2)`** для возврата элементов, которые входят только в одно множество (а не в оба)\n",
    "- **`.issuperset(set2)`** содержит ли это множество все, что есть в другом множестве?\n",
    "- **`.issubset(set2)`** содержится ли это множество в другом множестве?"
   ]
  },
  {
   "cell_type": "code",
   "execution_count": null,
   "metadata": {
    "collapsed": true
   },
   "outputs": [],
   "source": []
  },
  {
   "cell_type": "code",
   "execution_count": null,
   "metadata": {
    "collapsed": true
   },
   "outputs": [],
   "source": []
  },
  {
   "cell_type": "markdown",
   "metadata": {},
   "source": [
    "## Некоторые методы для словарей (dict)\n",
    "\n",
    "- **`.update([(key1, val1), (key2, val2), ...])`** для добавления в словарь нескольких пар ключ-значение.\n",
    "- **`.update(dict2)`** для добавления всех ключей и значений из другого словаря в словарь.\n",
    "- **`.pop(key)`** для удаления ключа и возврата его значения из словаря (ошибка, если ключ не найден)\n",
    "- **`.pop(key, default_val)`** для удаления ключа и возврата его значения из словаря (или возврата default_val, если ключ не найден)\n",
    "- **`.get(key)`** для возврата значения по указанному ключу в словаре (или None, если ключ не найден)\n",
    "- **`.get(key, default_val)`** для возврата значения по указанному ключу в словаре (или default_val, если ключ не найден)\n",
    "- **`.keys()`** для возврата списка ключей в словаре\n",
    "- **`.values()`** для возврата списка значений в словаре\n",
    "- **`.items()`** для возврата списка пар ключ-значение (кортежей) в словаре"
   ]
  },
  {
   "cell_type": "code",
   "execution_count": null,
   "metadata": {
    "collapsed": true
   },
   "outputs": [],
   "source": []
  },
  {
   "cell_type": "code",
   "execution_count": null,
   "metadata": {},
   "outputs": [],
   "source": []
  },
  {
   "cell_type": "markdown",
   "metadata": {},
   "source": [
    "# 2. Для переживших первый этап (условно Advanced уровень)\n",
    "\n",
    "## Позиционные аргументы (positional) и ключевые аргументы (keyword) для вызываемых объектов (callable)\n",
    "\n",
    "Вы можете вызвать функцию/метод несколькими способами:\n",
    "\n",
    "- `func()`: вызов `func` без аргументов.\n",
    "- `func(arg)`: вызов `func` с одним позиционным аргументом.\n",
    "- `func(arg1, arg2)`: вызов `func` с двумя позиционными аргументами.\n",
    "- `func(arg1, arg2, ..., argn)`: вызов `func` со многими позиционными аргументами.\n",
    "- `func(kwarg=value)`: вызов `func` с одним ключевым аргументом.\n",
    "- `func(kwarg1=value1, kwarg2=value2)`: вызов `func` с двумя ключевыми аргументами.\n",
    "- `func(kwarg1=value1, kwarg2=value2, ..., kwargn=valuen)`: вызов `func` с множеством ключевых аргументов.\n",
    "- `func(arg1, arg2, kwarg1=value1, kwarg2=value2)`: вызов `func` с позиционными аргументами и ключевыми аргументами.\n",
    "- `obj.method()`: то же самое для `func`... и любого другого примера `func`\n",
    "\n",
    "При использовании **позиционных аргументов** (**positional arguments**) вы должны указывать их в том порядке, в котором они были определены при создании функции (**сигнатура** (**signature**) функции).\n",
    "\n",
    "При использовании **ключевых аргументов** (**keyword arguments**) вы можете указывать нужные аргументы в любом порядке, при условии, что вы укажете имя каждого аргумента.\n",
    "\n",
    "При использовании позиционных и ключевых аргументов позиционные аргументы должны идти первыми."
   ]
  },
  {
   "cell_type": "code",
   "execution_count": null,
   "metadata": {
    "collapsed": true
   },
   "outputs": [],
   "source": []
  },
  {
   "cell_type": "code",
   "execution_count": null,
   "metadata": {
    "collapsed": true
   },
   "outputs": [],
   "source": []
  },
  {
   "cell_type": "markdown",
   "metadata": {},
   "source": [
    "## Форматирование строк и использование заполнителей"
   ]
  },
  {
   "cell_type": "code",
   "execution_count": null,
   "metadata": {
    "collapsed": true
   },
   "outputs": [],
   "source": []
  },
  {
   "cell_type": "code",
   "execution_count": null,
   "metadata": {
    "collapsed": true
   },
   "outputs": [],
   "source": []
  },
  {
   "cell_type": "markdown",
   "metadata": {},
   "source": [
    "## List, set, and dict comprehensions (списковые, множественные и словарные включения)"
   ]
  },
  {
   "cell_type": "code",
   "execution_count": null,
   "metadata": {
    "collapsed": true
   },
   "outputs": [],
   "source": []
  },
  {
   "cell_type": "code",
   "execution_count": null,
   "metadata": {
    "collapsed": true
   },
   "outputs": [],
   "source": []
  },
  {
   "cell_type": "markdown",
   "metadata": {},
   "source": [
    "## Создание объектов из аргументов или других объектов\n",
    "\n",
    "Все базовые типы и контейнеры, которые мы использовали до сих пор, предоставляют **конструкторы типов**:\n",
    "\n",
    "- `int()`\n",
    "- `float()`\n",
    "- `str()`\n",
    "- `list()`\n",
    "- `tuple()`\n",
    "- `set()`\n",
    "- `dict()`\n",
    "\n",
    "До этого момента мы определяли объекты этих встроенных типов, используя некоторые синтаксические сокращения, поскольку они очень распространены.\n",
    "\n",
    "Иногда у вас есть объект одного типа, который вам нужно преобразовать в другой тип. Используйте **конструктор типа** для типа объекта, который вы хотите, и передайте объект, который у вас есть в данный момент."
   ]
  },
  {
   "cell_type": "code",
   "execution_count": null,
   "metadata": {
    "collapsed": true
   },
   "outputs": [],
   "source": []
  },
  {
   "cell_type": "code",
   "execution_count": null,
   "metadata": {
    "collapsed": true
   },
   "outputs": [],
   "source": []
  },
  {
   "cell_type": "markdown",
   "metadata": {},
   "source": [
    "## Импорты библиотек"
   ]
  },
  {
   "cell_type": "code",
   "execution_count": null,
   "metadata": {
    "collapsed": true
   },
   "outputs": [],
   "source": []
  },
  {
   "cell_type": "code",
   "execution_count": null,
   "metadata": {
    "collapsed": true
   },
   "outputs": [],
   "source": []
  },
  {
   "cell_type": "markdown",
   "metadata": {},
   "source": [
    "## Исключения"
   ]
  },
  {
   "cell_type": "code",
   "execution_count": null,
   "metadata": {
    "collapsed": true
   },
   "outputs": [],
   "source": []
  },
  {
   "cell_type": "code",
   "execution_count": null,
   "metadata": {
    "collapsed": true
   },
   "outputs": [],
   "source": []
  },
  {
   "cell_type": "markdown",
   "metadata": {},
   "source": [
    "# 3. Введение в ООП на Python 3\n",
    "\n",
    "## Классы: Создание собственных объектов"
   ]
  },
  {
   "cell_type": "code",
   "execution_count": 71,
   "metadata": {
    "collapsed": true
   },
   "outputs": [],
   "source": [
    "# Определяем новый класс под названием «Thing», который является производным от базового объекта Python (object).\n",
    "# Иначе говоря, наследуется от типа object\n",
    "class Thing(object):\n",
    "    my_property = 'I am a \"Thing\"'\n",
    "\n",
    "\n",
    "# Определите новый класс под названием DictThing, который является производным (наследуется) от типа dict.\n",
    "class DictThing(dict):\n",
    "    my_property = 'I am a \"DictThing\"'"
   ]
  },
  {
   "cell_type": "code",
   "execution_count": 72,
   "metadata": {},
   "outputs": [
    {
     "name": "stdout",
     "output_type": "stream",
     "text": [
      "<class '__main__.Thing'>\n",
      "<class 'type'>\n",
      "<class '__main__.DictThing'>\n",
      "<class 'type'>\n",
      "True\n",
      "True\n"
     ]
    }
   ],
   "source": [
    "print(Thing)\n",
    "print(type(Thing))\n",
    "print(DictThing)\n",
    "print(type(DictThing))\n",
    "print(issubclass(DictThing, dict))\n",
    "print(issubclass(DictThing, object))"
   ]
  },
  {
   "cell_type": "code",
   "execution_count": 73,
   "metadata": {},
   "outputs": [
    {
     "name": "stdout",
     "output_type": "stream",
     "text": [
      "<__main__.Thing object at 0x7f2170f3d240>\n",
      "<class '__main__.Thing'>\n",
      "{}\n",
      "<class '__main__.DictThing'>\n"
     ]
    }
   ],
   "source": [
    "# Create \"instances\" of our new classes\n",
    "t = Thing()\n",
    "d = DictThing()\n",
    "print(t)\n",
    "print(type(t))\n",
    "print(d)\n",
    "print(type(d))"
   ]
  },
  {
   "cell_type": "code",
   "execution_count": 74,
   "metadata": {},
   "outputs": [
    {
     "name": "stdout",
     "output_type": "stream",
     "text": [
      "{'name': 'Sally'}\n"
     ]
    }
   ],
   "source": [
    "# Interact with a DictThing instance just as you would a normal dictionary\n",
    "d['name'] = 'Sally'\n",
    "print(d)"
   ]
  },
  {
   "cell_type": "code",
   "execution_count": 75,
   "metadata": {},
   "outputs": [
    {
     "name": "stdout",
     "output_type": "stream",
     "text": [
      "{'fav_color': 'green', 'name': 'Sally', 'fav_foods': ['pizza', 'sushi', 'pad thai', 'waffles'], 'age': 13}\n"
     ]
    }
   ],
   "source": [
    "d.update({\n",
    "        'age': 13,\n",
    "        'fav_foods': ['pizza', 'sushi', 'pad thai', 'waffles'],\n",
    "        'fav_color': 'green',\n",
    "    })\n",
    "print(d)"
   ]
  },
  {
   "cell_type": "code",
   "execution_count": 76,
   "metadata": {},
   "outputs": [
    {
     "name": "stdout",
     "output_type": "stream",
     "text": [
      "I am a \"DictThing\"\n"
     ]
    }
   ],
   "source": [
    "print(d.my_property)"
   ]
  },
  {
   "cell_type": "markdown",
   "metadata": {},
   "source": [
    "## Определение функций и методов"
   ]
  },
  {
   "cell_type": "code",
   "execution_count": null,
   "metadata": {
    "collapsed": true
   },
   "outputs": [],
   "source": []
  },
  {
   "cell_type": "code",
   "execution_count": null,
   "metadata": {
    "collapsed": true
   },
   "outputs": [],
   "source": []
  },
  {
   "cell_type": "markdown",
   "metadata": {},
   "source": [
    "## Создание метода-конструктора (инициализатора) для ваших классов"
   ]
  },
  {
   "cell_type": "code",
   "execution_count": null,
   "metadata": {
    "collapsed": true
   },
   "outputs": [],
   "source": []
  },
  {
   "cell_type": "code",
   "execution_count": null,
   "metadata": {
    "collapsed": true
   },
   "outputs": [],
   "source": []
  },
  {
   "cell_type": "markdown",
   "metadata": {},
   "source": [
    "## Magic-методы"
   ]
  },
  {
   "cell_type": "code",
   "execution_count": null,
   "metadata": {
    "collapsed": true
   },
   "outputs": [],
   "source": []
  },
  {
   "cell_type": "code",
   "execution_count": null,
   "metadata": {
    "collapsed": true
   },
   "outputs": [],
   "source": []
  },
  {
   "cell_type": "markdown",
   "metadata": {},
   "source": [
    "## Контекстные менеджеры и оператор with"
   ]
  },
  {
   "cell_type": "code",
   "execution_count": null,
   "metadata": {
    "collapsed": true
   },
   "outputs": [],
   "source": []
  },
  {
   "cell_type": "code",
   "execution_count": null,
   "metadata": {
    "collapsed": true
   },
   "outputs": [],
   "source": []
  }
 ],
 "metadata": {
  "kernelspec": {
   "display_name": "Python 3 (ipykernel)",
   "language": "python",
   "name": "python3"
  },
  "language_info": {
   "codemirror_mode": {
    "name": "ipython",
    "version": 3
   },
   "file_extension": ".py",
   "mimetype": "text/x-python",
   "name": "python",
   "nbconvert_exporter": "python",
   "pygments_lexer": "ipython3",
   "version": "3.9.13"
  }
 },
 "nbformat": 4,
 "nbformat_minor": 1
}
